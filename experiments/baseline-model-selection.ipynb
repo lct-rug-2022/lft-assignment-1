{
 "cells": [
  {
   "cell_type": "markdown",
   "source": [
    "## Imports"
   ],
   "metadata": {
    "collapsed": false,
    "pycharm": {
     "name": "#%% md\n"
    }
   }
  },
  {
   "cell_type": "code",
   "execution_count": null,
   "outputs": [],
   "source": [
    "import sys\n",
    "\n",
    "import joblib\n",
    "from sklearn import metrics\n",
    "import pandas as pd\n",
    "from sklearn.ensemble import RandomForestClassifier, ExtraTreesClassifier, GradientBoostingClassifier\n",
    "from sklearn.feature_extraction.text import TfidfVectorizer, CountVectorizer, HashingVectorizer\n",
    "from sklearn.linear_model import LogisticRegression\n",
    "from sklearn.model_selection import train_test_split\n",
    "from sklearn.naive_bayes import MultinomialNB\n",
    "from sklearn.neighbors import KNeighborsClassifier\n",
    "from sklearn.pipeline import Pipeline\n",
    "from sklearn.svm import LinearSVC, SVC\n",
    "from tqdm.auto import tqdm\n",
    "\n",
    "sys.path.append('..')\n",
    "from utils import cv_kfold, train_validate_split"
   ],
   "metadata": {
    "collapsed": false,
    "pycharm": {
     "name": "#%%\n"
    }
   }
  },
  {
   "cell_type": "code",
   "execution_count": null,
   "outputs": [],
   "source": [
    "import warnings\n",
    "warnings.filterwarnings(\"ignore\")"
   ],
   "metadata": {
    "collapsed": false,
    "pycharm": {
     "name": "#%%\n"
    }
   }
  },
  {
   "cell_type": "markdown",
   "source": [
    "## Data Loading"
   ],
   "metadata": {
    "collapsed": false,
    "pycharm": {
     "name": "#%% md\n"
    }
   }
  },
  {
   "cell_type": "code",
   "execution_count": null,
   "outputs": [],
   "source": [
    "def read_file(filename: str) -> pd.DataFrame:\n",
    "    return pd.DataFrame([\n",
    "        (l.split()[0], l.split()[1], ' '.join(l.split()[3:]))\n",
    "        for l in open(filename)\n",
    "        ], columns=['class', 'sent', 'text']\n",
    "    )"
   ],
   "metadata": {
    "collapsed": false,
    "pycharm": {
     "name": "#%%\n"
    }
   }
  },
  {
   "cell_type": "code",
   "execution_count": null,
   "outputs": [],
   "source": [
    "df_train = read_file('../datasets/train.txt')\n",
    "df_test = read_file('../datasets/test.txt')\n",
    "\n",
    "len(df_train), len(df_test)"
   ],
   "metadata": {
    "collapsed": false,
    "pycharm": {
     "name": "#%%\n"
    }
   }
  },
  {
   "cell_type": "code",
   "execution_count": null,
   "outputs": [],
   "source": [
    "X = df_train['text'].values\n",
    "y = df_train['class'].values\n",
    "y_sent = df_train['sent'].values"
   ],
   "metadata": {
    "collapsed": false,
    "pycharm": {
     "name": "#%%\n"
    }
   }
  },
  {
   "cell_type": "markdown",
   "source": [
    "## Experiments"
   ],
   "metadata": {
    "collapsed": false,
    "pycharm": {
     "name": "#%% md\n"
    }
   }
  },
  {
   "cell_type": "code",
   "execution_count": null,
   "outputs": [],
   "source": [
    "vectorizers = {\n",
    "    'Count': CountVectorizer(),\n",
    "    'Tfidf': TfidfVectorizer(),\n",
    "    'Hashing': HashingVectorizer(),\n",
    "}\n",
    "models = {\n",
    "    'LogReg': LogisticRegression(),\n",
    "    'SVM': SVC(),\n",
    "    'LinearSVM': LinearSVC(),\n",
    "    'RandomForest': RandomForestClassifier(),\n",
    "    'ExtraTrees': ExtraTreesClassifier(),\n",
    "    'GradientBoosting': GradientBoostingClassifier(),\n",
    "    'NaiveBayes': MultinomialNB(),\n",
    "    'KNeighbors': KNeighborsClassifier(),\n",
    "}"
   ],
   "metadata": {
    "collapsed": false,
    "pycharm": {
     "name": "#%%\n"
    }
   }
  },
  {
   "cell_type": "code",
   "execution_count": null,
   "outputs": [],
   "source": [
    "df_scores = pd.DataFrame(columns=vectorizers.keys(), index=models.keys())\n",
    "df_time = pd.DataFrame(columns=vectorizers.keys(), index=models.keys())\n",
    "scorer = lambda *x: metrics.f1_score(*x, average='micro')\n",
    "\n",
    "joblib_memory = joblib.Memory()\n",
    "for model_name, model in tqdm(models.items(), total=len(models), desc='models'):\n",
    "    for vec_name, vec in tqdm(vectorizers.items(), total=len(vectorizers), desc='vectorizer'):\n",
    "        pipeline = Pipeline(\n",
    "            steps=[\n",
    "                ('vec', vec),\n",
    "                ('cls', model)\n",
    "            ],\n",
    "            memory=joblib_memory,\n",
    "        )\n",
    "\n",
    "        try:\n",
    "            kfold_result = cv_kfold(pipeline, X, y, scorer=scorer, k=5)\n",
    "            df_scores.loc[model_name, vec_name] = kfold_result['oof_score']\n",
    "            df_time.loc[model_name, vec_name] = kfold_result['mean_time']\n",
    "\n",
    "            # X_train, X_val, y_train, y_val = train_test_split(X, y)\n",
    "            # validate_results = train_validate_split(pipeline, X_train, y_train, X_val, y_val, scorer, verbose=0)\n",
    "            # df_scores.loc[model_name, vec_name] = validate_results['score']\n",
    "            # df_time.loc[model_name, vec_name] = validate_results['time']\n",
    "        except Exception as e:\n",
    "            df_scores.loc[model_name, vec_name] = None\n",
    "            df_time.loc[model_name, vec_name] = None\n",
    "\n",
    "df_scores"
   ],
   "metadata": {
    "collapsed": false,
    "pycharm": {
     "name": "#%%\n"
    }
   }
  },
  {
   "cell_type": "code",
   "execution_count": null,
   "outputs": [],
   "source": [
    "df_time"
   ],
   "metadata": {
    "collapsed": false,
    "pycharm": {
     "name": "#%%\n"
    }
   }
  }
 ],
 "metadata": {
  "kernelspec": {
   "display_name": "Python 3",
   "language": "python",
   "name": "python3"
  },
  "language_info": {
   "codemirror_mode": {
    "name": "ipython",
    "version": 2
   },
   "file_extension": ".py",
   "mimetype": "text/x-python",
   "name": "python",
   "nbconvert_exporter": "python",
   "pygments_lexer": "ipython2",
   "version": "2.7.6"
  }
 },
 "nbformat": 4,
 "nbformat_minor": 0
}