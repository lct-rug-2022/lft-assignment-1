{
 "cells": [
  {
   "cell_type": "markdown",
   "source": [
    "## Imports"
   ],
   "metadata": {
    "collapsed": false,
    "pycharm": {
     "name": "#%% md\n"
    }
   }
  },
  {
   "cell_type": "code",
   "execution_count": 2,
   "outputs": [],
   "source": [
    "import sys\n",
    "\n",
    "import joblib\n",
    "from sklearn import metrics\n",
    "import numpy as np\n",
    "import pandas as pd\n",
    "from sklearn.ensemble import RandomForestClassifier, ExtraTreesClassifier, GradientBoostingClassifier\n",
    "from sklearn.feature_extraction.text import TfidfVectorizer, CountVectorizer, HashingVectorizer\n",
    "from sklearn.linear_model import LogisticRegression\n",
    "from sklearn.model_selection import train_test_split\n",
    "from sklearn.naive_bayes import MultinomialNB\n",
    "from sklearn.neighbors import KNeighborsClassifier\n",
    "from sklearn.pipeline import Pipeline\n",
    "from sklearn.svm import LinearSVC, SVC\n",
    "from tqdm.auto import tqdm\n",
    "\n",
    "sys.path.append('..')\n",
    "from utils import cv_kfold, train_validate_split"
   ],
   "metadata": {
    "collapsed": false,
    "pycharm": {
     "name": "#%%\n"
    }
   }
  },
  {
   "cell_type": "code",
   "execution_count": 3,
   "outputs": [],
   "source": [
    "import warnings\n",
    "warnings.filterwarnings(\"ignore\")"
   ],
   "metadata": {
    "collapsed": false,
    "pycharm": {
     "name": "#%%\n"
    }
   }
  },
  {
   "cell_type": "markdown",
   "source": [
    "## Data Loading"
   ],
   "metadata": {
    "collapsed": false,
    "pycharm": {
     "name": "#%% md\n"
    }
   }
  },
  {
   "cell_type": "code",
   "execution_count": 4,
   "outputs": [],
   "source": [
    "def read_file(filename: str) -> pd.DataFrame:\n",
    "    return pd.DataFrame([\n",
    "        (l.split()[0], l.split()[1], ' '.join(l.split()[3:]))\n",
    "        for l in open(filename)\n",
    "        ], columns=['class', 'sent', 'text']\n",
    "    )"
   ],
   "metadata": {
    "collapsed": false,
    "pycharm": {
     "name": "#%%\n"
    }
   }
  },
  {
   "cell_type": "code",
   "execution_count": 5,
   "outputs": [
    {
     "data": {
      "text/plain": "(5400, 600)"
     },
     "execution_count": 5,
     "metadata": {},
     "output_type": "execute_result"
    }
   ],
   "source": [
    "df_train = read_file('../datasets/train.txt')\n",
    "df_test = read_file('../datasets/test.txt')\n",
    "\n",
    "len(df_train), len(df_test)"
   ],
   "metadata": {
    "collapsed": false,
    "pycharm": {
     "name": "#%%\n"
    }
   }
  },
  {
   "cell_type": "code",
   "execution_count": 6,
   "outputs": [],
   "source": [
    "X = df_train['text'].values\n",
    "y = df_train['class'].values\n",
    "y_sent = df_train['sent'].values"
   ],
   "metadata": {
    "collapsed": false,
    "pycharm": {
     "name": "#%%\n"
    }
   }
  },
  {
   "cell_type": "markdown",
   "source": [
    "## Experiments"
   ],
   "metadata": {
    "collapsed": false,
    "pycharm": {
     "name": "#%% md\n"
    }
   }
  },
  {
   "cell_type": "code",
   "execution_count": 7,
   "outputs": [],
   "source": [
    "vectorizers = {\n",
    "    'Count': CountVectorizer(),\n",
    "    'Tfidf': TfidfVectorizer(),\n",
    "    'Hashing': HashingVectorizer(),\n",
    "}\n",
    "models = {\n",
    "    'LogReg': LogisticRegression(),\n",
    "    'SVM': SVC(),\n",
    "    'LinearSVM': LinearSVC(),\n",
    "    'RandomForest': RandomForestClassifier(),\n",
    "    'ExtraTrees': ExtraTreesClassifier(),\n",
    "    'GradientBoosting': GradientBoostingClassifier(),\n",
    "    'NaiveBayes': MultinomialNB(),\n",
    "    'KNeighbors': KNeighborsClassifier(),\n",
    "}"
   ],
   "metadata": {
    "collapsed": false,
    "pycharm": {
     "name": "#%%\n"
    }
   }
  },
  {
   "cell_type": "code",
   "execution_count": 8,
   "outputs": [
    {
     "data": {
      "text/plain": "models:   0%|          | 0/3 [00:00<?, ?it/s]",
      "application/vnd.jupyter.widget-view+json": {
       "version_major": 2,
       "version_minor": 0,
       "model_id": "67295884736e4562a38259c693b03579"
      }
     },
     "metadata": {},
     "output_type": "display_data"
    },
    {
     "data": {
      "text/plain": "vectorizer:   0%|          | 0/3 [00:00<?, ?it/s]",
      "application/vnd.jupyter.widget-view+json": {
       "version_major": 2,
       "version_minor": 0,
       "model_id": "2674f48158dd4d59a2c685de52e0f261"
      }
     },
     "metadata": {},
     "output_type": "display_data"
    },
    {
     "data": {
      "text/plain": "vectorizer:   0%|          | 0/3 [00:00<?, ?it/s]",
      "application/vnd.jupyter.widget-view+json": {
       "version_major": 2,
       "version_minor": 0,
       "model_id": "12937d39fc6244a2bbbd98a67178460c"
      }
     },
     "metadata": {},
     "output_type": "display_data"
    },
    {
     "data": {
      "text/plain": "vectorizer:   0%|          | 0/3 [00:00<?, ?it/s]",
      "application/vnd.jupyter.widget-view+json": {
       "version_major": 2,
       "version_minor": 0,
       "model_id": "5b8e1dff48134b92b1258b47da809519"
      }
     },
     "metadata": {},
     "output_type": "display_data"
    },
    {
     "data": {
      "text/plain": "              Count     Tfidf   Hashing\nLogReg     0.888148  0.916296  0.858519\nSVM        0.743704  0.902963  0.861481\nLinearSVM  0.871111  0.917037  0.897037",
      "text/html": "<div>\n<style scoped>\n    .dataframe tbody tr th:only-of-type {\n        vertical-align: middle;\n    }\n\n    .dataframe tbody tr th {\n        vertical-align: top;\n    }\n\n    .dataframe thead th {\n        text-align: right;\n    }\n</style>\n<table border=\"1\" class=\"dataframe\">\n  <thead>\n    <tr style=\"text-align: right;\">\n      <th></th>\n      <th>Count</th>\n      <th>Tfidf</th>\n      <th>Hashing</th>\n    </tr>\n  </thead>\n  <tbody>\n    <tr>\n      <th>LogReg</th>\n      <td>0.888148</td>\n      <td>0.916296</td>\n      <td>0.858519</td>\n    </tr>\n    <tr>\n      <th>SVM</th>\n      <td>0.743704</td>\n      <td>0.902963</td>\n      <td>0.861481</td>\n    </tr>\n    <tr>\n      <th>LinearSVM</th>\n      <td>0.871111</td>\n      <td>0.917037</td>\n      <td>0.897037</td>\n    </tr>\n  </tbody>\n</table>\n</div>"
     },
     "execution_count": 8,
     "metadata": {},
     "output_type": "execute_result"
    }
   ],
   "source": [
    "df_scores = pd.DataFrame(columns=vectorizers.keys(), index=models.keys())\n",
    "df_time = pd.DataFrame(columns=vectorizers.keys(), index=models.keys())\n",
    "scorer = lambda *x: metrics.f1_score(*x, average='micro')\n",
    "\n",
    "joblib_memory = joblib.Memory()\n",
    "for model_name, model in tqdm(models.items(), total=len(models), desc='models'):\n",
    "    for vec_name, vec in tqdm(vectorizers.items(), total=len(vectorizers), desc='vectorizer'):\n",
    "        pipeline = Pipeline(\n",
    "            steps=[\n",
    "                ('vec', vec),\n",
    "                ('cls', model)\n",
    "            ],\n",
    "            memory=joblib_memory,\n",
    "        )\n",
    "\n",
    "        try:\n",
    "            # kfold_result = cv_kfold(pipeline, X, y, scorer=scorer, k=5)\n",
    "            # df_scores.loc[model_name, vec_name] = kfold_result['oof_score']\n",
    "            # df_time.loc[model_name, vec_name] = kfold_result['mean_time']\n",
    "\n",
    "            X_train, X_val, y_train, y_val = train_test_split(X, y)\n",
    "            validate_results = train_validate_split(pipeline, X_train, y_train, X_val, y_val, scorer, verbose=0)\n",
    "            df_scores.loc[model_name, vec_name] = validate_results['score']\n",
    "            df_time.loc[model_name, vec_name] = validate_results['time']\n",
    "        except Exception as e:\n",
    "            df_scores.loc[model_name, vec_name] = None\n",
    "            df_time.loc[model_name, vec_name] = None\n",
    "\n",
    "df_scores"
   ],
   "metadata": {
    "collapsed": false,
    "pycharm": {
     "name": "#%%\n"
    }
   }
  },
  {
   "cell_type": "code",
   "execution_count": 9,
   "outputs": [
    {
     "data": {
      "text/plain": "               Count    Tfidf    Hashing\nLogReg      4.389683  2.19165  80.189357\nSVM        12.581683  17.6035  10.467095\nLinearSVM   1.222021  0.50292   0.515044",
      "text/html": "<div>\n<style scoped>\n    .dataframe tbody tr th:only-of-type {\n        vertical-align: middle;\n    }\n\n    .dataframe tbody tr th {\n        vertical-align: top;\n    }\n\n    .dataframe thead th {\n        text-align: right;\n    }\n</style>\n<table border=\"1\" class=\"dataframe\">\n  <thead>\n    <tr style=\"text-align: right;\">\n      <th></th>\n      <th>Count</th>\n      <th>Tfidf</th>\n      <th>Hashing</th>\n    </tr>\n  </thead>\n  <tbody>\n    <tr>\n      <th>LogReg</th>\n      <td>4.389683</td>\n      <td>2.19165</td>\n      <td>80.189357</td>\n    </tr>\n    <tr>\n      <th>SVM</th>\n      <td>12.581683</td>\n      <td>17.6035</td>\n      <td>10.467095</td>\n    </tr>\n    <tr>\n      <th>LinearSVM</th>\n      <td>1.222021</td>\n      <td>0.50292</td>\n      <td>0.515044</td>\n    </tr>\n  </tbody>\n</table>\n</div>"
     },
     "execution_count": 9,
     "metadata": {},
     "output_type": "execute_result"
    }
   ],
   "source": [
    "df_time"
   ],
   "metadata": {
    "collapsed": false,
    "pycharm": {
     "name": "#%%\n"
    }
   }
  },
  {
   "cell_type": "code",
   "execution_count": null,
   "outputs": [],
   "source": [],
   "metadata": {
    "collapsed": false,
    "pycharm": {
     "name": "#%%\n"
    }
   }
  }
 ],
 "metadata": {
  "kernelspec": {
   "display_name": "Python 3",
   "language": "python",
   "name": "python3"
  },
  "language_info": {
   "codemirror_mode": {
    "name": "ipython",
    "version": 2
   },
   "file_extension": ".py",
   "mimetype": "text/x-python",
   "name": "python",
   "nbconvert_exporter": "python",
   "pygments_lexer": "ipython2",
   "version": "2.7.6"
  }
 },
 "nbformat": 4,
 "nbformat_minor": 0
}