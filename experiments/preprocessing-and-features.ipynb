{
 "cells": [
  {
   "cell_type": "markdown",
   "source": [
    "## Imports"
   ],
   "metadata": {
    "collapsed": false,
    "pycharm": {
     "name": "#%% md\n"
    }
   }
  },
  {
   "cell_type": "code",
   "execution_count": 112,
   "outputs": [],
   "source": [
    "import sys\n",
    "\n",
    "import spacy\n",
    "from sklearn import metrics\n",
    "import numpy as np\n",
    "import pandas as pd\n",
    "from sklearn.base import BaseEstimator, TransformerMixin\n",
    "from sklearn.feature_extraction.text import TfidfVectorizer, CountVectorizer\n",
    "from sklearn.pipeline import Pipeline, FeatureUnion\n",
    "from sklearn.svm import LinearSVC\n",
    "from tqdm.auto import tqdm\n",
    "\n",
    "sys.path.append('..')\n",
    "from utils import cv_kfold, train_validate_split"
   ],
   "metadata": {
    "collapsed": false,
    "pycharm": {
     "name": "#%%\n"
    }
   }
  },
  {
   "cell_type": "code",
   "execution_count": 113,
   "outputs": [],
   "source": [
    "import warnings\n",
    "warnings.filterwarnings(\"ignore\")"
   ],
   "metadata": {
    "collapsed": false,
    "pycharm": {
     "name": "#%%\n"
    }
   }
  },
  {
   "cell_type": "code",
   "execution_count": 101,
   "outputs": [
    {
     "name": "stdout",
     "output_type": "stream",
     "text": [
      "Collecting en-core-web-sm==3.4.0\r\n",
      "  Downloading https://github.com/explosion/spacy-models/releases/download/en_core_web_sm-3.4.0/en_core_web_sm-3.4.0-py3-none-any.whl (12.8 MB)\r\n",
      "     |████████████████████████████████| 12.8 MB 1.0 MB/s            \r\n",
      "\u001B[?25hRequirement already satisfied: spacy<3.5.0,>=3.4.0 in /Users/kblack/Projects/rug/lft-assignment-1/.venv/lib/python3.10/site-packages (from en-core-web-sm==3.4.0) (3.4.1)\r\n",
      "Requirement already satisfied: thinc<8.2.0,>=8.1.0 in /Users/kblack/Projects/rug/lft-assignment-1/.venv/lib/python3.10/site-packages (from spacy<3.5.0,>=3.4.0->en-core-web-sm==3.4.0) (8.1.1)\r\n",
      "Requirement already satisfied: requests<3.0.0,>=2.13.0 in /Users/kblack/Projects/rug/lft-assignment-1/.venv/lib/python3.10/site-packages (from spacy<3.5.0,>=3.4.0->en-core-web-sm==3.4.0) (2.28.1)\r\n",
      "Requirement already satisfied: pydantic!=1.8,!=1.8.1,<1.10.0,>=1.7.4 in /Users/kblack/Projects/rug/lft-assignment-1/.venv/lib/python3.10/site-packages (from spacy<3.5.0,>=3.4.0->en-core-web-sm==3.4.0) (1.9.2)\r\n",
      "Requirement already satisfied: packaging>=20.0 in /Users/kblack/Projects/rug/lft-assignment-1/.venv/lib/python3.10/site-packages (from spacy<3.5.0,>=3.4.0->en-core-web-sm==3.4.0) (21.3)\r\n",
      "Requirement already satisfied: spacy-legacy<3.1.0,>=3.0.9 in /Users/kblack/Projects/rug/lft-assignment-1/.venv/lib/python3.10/site-packages (from spacy<3.5.0,>=3.4.0->en-core-web-sm==3.4.0) (3.0.10)\r\n",
      "Requirement already satisfied: murmurhash<1.1.0,>=0.28.0 in /Users/kblack/Projects/rug/lft-assignment-1/.venv/lib/python3.10/site-packages (from spacy<3.5.0,>=3.4.0->en-core-web-sm==3.4.0) (1.0.8)\r\n",
      "Requirement already satisfied: wasabi<1.1.0,>=0.9.1 in /Users/kblack/Projects/rug/lft-assignment-1/.venv/lib/python3.10/site-packages (from spacy<3.5.0,>=3.4.0->en-core-web-sm==3.4.0) (0.10.1)\r\n",
      "Requirement already satisfied: srsly<3.0.0,>=2.4.3 in /Users/kblack/Projects/rug/lft-assignment-1/.venv/lib/python3.10/site-packages (from spacy<3.5.0,>=3.4.0->en-core-web-sm==3.4.0) (2.4.4)\r\n",
      "Requirement already satisfied: jinja2 in /Users/kblack/Projects/rug/lft-assignment-1/.venv/lib/python3.10/site-packages (from spacy<3.5.0,>=3.4.0->en-core-web-sm==3.4.0) (3.1.2)\r\n",
      "Requirement already satisfied: langcodes<4.0.0,>=3.2.0 in /Users/kblack/Projects/rug/lft-assignment-1/.venv/lib/python3.10/site-packages (from spacy<3.5.0,>=3.4.0->en-core-web-sm==3.4.0) (3.3.0)\r\n",
      "Requirement already satisfied: cymem<2.1.0,>=2.0.2 in /Users/kblack/Projects/rug/lft-assignment-1/.venv/lib/python3.10/site-packages (from spacy<3.5.0,>=3.4.0->en-core-web-sm==3.4.0) (2.0.6)\r\n",
      "Requirement already satisfied: tqdm<5.0.0,>=4.38.0 in /Users/kblack/Projects/rug/lft-assignment-1/.venv/lib/python3.10/site-packages (from spacy<3.5.0,>=3.4.0->en-core-web-sm==3.4.0) (4.64.1)\r\n",
      "Requirement already satisfied: typer<0.5.0,>=0.3.0 in /Users/kblack/Projects/rug/lft-assignment-1/.venv/lib/python3.10/site-packages (from spacy<3.5.0,>=3.4.0->en-core-web-sm==3.4.0) (0.4.2)\r\n",
      "Requirement already satisfied: setuptools in /Users/kblack/Projects/rug/lft-assignment-1/.venv/lib/python3.10/site-packages (from spacy<3.5.0,>=3.4.0->en-core-web-sm==3.4.0) (60.2.0)\r\n",
      "Requirement already satisfied: preshed<3.1.0,>=3.0.2 in /Users/kblack/Projects/rug/lft-assignment-1/.venv/lib/python3.10/site-packages (from spacy<3.5.0,>=3.4.0->en-core-web-sm==3.4.0) (3.0.7)\r\n",
      "Requirement already satisfied: catalogue<2.1.0,>=2.0.6 in /Users/kblack/Projects/rug/lft-assignment-1/.venv/lib/python3.10/site-packages (from spacy<3.5.0,>=3.4.0->en-core-web-sm==3.4.0) (2.0.8)\r\n",
      "Requirement already satisfied: spacy-loggers<2.0.0,>=1.0.0 in /Users/kblack/Projects/rug/lft-assignment-1/.venv/lib/python3.10/site-packages (from spacy<3.5.0,>=3.4.0->en-core-web-sm==3.4.0) (1.0.3)\r\n",
      "Requirement already satisfied: numpy>=1.15.0 in /Users/kblack/Projects/rug/lft-assignment-1/.venv/lib/python3.10/site-packages (from spacy<3.5.0,>=3.4.0->en-core-web-sm==3.4.0) (1.23.3)\r\n",
      "Requirement already satisfied: pathy>=0.3.5 in /Users/kblack/Projects/rug/lft-assignment-1/.venv/lib/python3.10/site-packages (from spacy<3.5.0,>=3.4.0->en-core-web-sm==3.4.0) (0.6.2)\r\n",
      "Requirement already satisfied: pyparsing!=3.0.5,>=2.0.2 in /Users/kblack/Projects/rug/lft-assignment-1/.venv/lib/python3.10/site-packages (from packaging>=20.0->spacy<3.5.0,>=3.4.0->en-core-web-sm==3.4.0) (3.0.9)\r\n",
      "Requirement already satisfied: smart-open<6.0.0,>=5.2.1 in /Users/kblack/Projects/rug/lft-assignment-1/.venv/lib/python3.10/site-packages (from pathy>=0.3.5->spacy<3.5.0,>=3.4.0->en-core-web-sm==3.4.0) (5.2.1)\r\n",
      "Requirement already satisfied: typing-extensions>=3.7.4.3 in /Users/kblack/Projects/rug/lft-assignment-1/.venv/lib/python3.10/site-packages (from pydantic!=1.8,!=1.8.1,<1.10.0,>=1.7.4->spacy<3.5.0,>=3.4.0->en-core-web-sm==3.4.0) (4.3.0)\r\n",
      "Requirement already satisfied: charset-normalizer<3,>=2 in /Users/kblack/Projects/rug/lft-assignment-1/.venv/lib/python3.10/site-packages (from requests<3.0.0,>=2.13.0->spacy<3.5.0,>=3.4.0->en-core-web-sm==3.4.0) (2.1.1)\r\n",
      "Requirement already satisfied: idna<4,>=2.5 in /Users/kblack/Projects/rug/lft-assignment-1/.venv/lib/python3.10/site-packages (from requests<3.0.0,>=2.13.0->spacy<3.5.0,>=3.4.0->en-core-web-sm==3.4.0) (3.4)\r\n",
      "Requirement already satisfied: urllib3<1.27,>=1.21.1 in /Users/kblack/Projects/rug/lft-assignment-1/.venv/lib/python3.10/site-packages (from requests<3.0.0,>=2.13.0->spacy<3.5.0,>=3.4.0->en-core-web-sm==3.4.0) (1.26.12)\r\n",
      "Requirement already satisfied: certifi>=2017.4.17 in /Users/kblack/Projects/rug/lft-assignment-1/.venv/lib/python3.10/site-packages (from requests<3.0.0,>=2.13.0->spacy<3.5.0,>=3.4.0->en-core-web-sm==3.4.0) (2022.9.14)\r\n",
      "Requirement already satisfied: confection<1.0.0,>=0.0.1 in /Users/kblack/Projects/rug/lft-assignment-1/.venv/lib/python3.10/site-packages (from thinc<8.2.0,>=8.1.0->spacy<3.5.0,>=3.4.0->en-core-web-sm==3.4.0) (0.0.1)\r\n",
      "Requirement already satisfied: blis<0.10.0,>=0.7.8 in /Users/kblack/Projects/rug/lft-assignment-1/.venv/lib/python3.10/site-packages (from thinc<8.2.0,>=8.1.0->spacy<3.5.0,>=3.4.0->en-core-web-sm==3.4.0) (0.9.1)\r\n",
      "Requirement already satisfied: click<9.0.0,>=7.1.1 in /Users/kblack/Projects/rug/lft-assignment-1/.venv/lib/python3.10/site-packages (from typer<0.5.0,>=0.3.0->spacy<3.5.0,>=3.4.0->en-core-web-sm==3.4.0) (8.1.3)\r\n",
      "Requirement already satisfied: MarkupSafe>=2.0 in /Users/kblack/Projects/rug/lft-assignment-1/.venv/lib/python3.10/site-packages (from jinja2->spacy<3.5.0,>=3.4.0->en-core-web-sm==3.4.0) (2.1.1)\r\n",
      "\u001B[33mWARNING: You are using pip version 21.3.1; however, version 22.2.2 is available.\r\n",
      "You should consider upgrading via the '/Users/kblack/Projects/rug/lft-assignment-1/.venv/bin/python -m pip install --upgrade pip' command.\u001B[0m\r\n",
      "\u001B[38;5;2m✔ Download and installation successful\u001B[0m\r\n",
      "You can now load the package via spacy.load('en_core_web_sm')\r\n"
     ]
    }
   ],
   "source": [
    "!python -m spacy download en_core_web_sm"
   ],
   "metadata": {
    "collapsed": false,
    "pycharm": {
     "name": "#%%\n"
    }
   }
  },
  {
   "cell_type": "markdown",
   "source": [
    "## Data Loading"
   ],
   "metadata": {
    "collapsed": false,
    "pycharm": {
     "name": "#%% md\n"
    }
   }
  },
  {
   "cell_type": "code",
   "execution_count": 114,
   "outputs": [],
   "source": [
    "def read_file(filename: str) -> pd.DataFrame:\n",
    "    return pd.DataFrame([\n",
    "        (l.split()[0], l.split()[1], ' '.join(l.split()[3:]))\n",
    "        for l in open(filename)\n",
    "        ], columns=['class', 'sent', 'text']\n",
    "    )"
   ],
   "metadata": {
    "collapsed": false,
    "pycharm": {
     "name": "#%%\n"
    }
   }
  },
  {
   "cell_type": "code",
   "execution_count": 115,
   "outputs": [
    {
     "data": {
      "text/plain": "(5400, 600)"
     },
     "execution_count": 115,
     "metadata": {},
     "output_type": "execute_result"
    }
   ],
   "source": [
    "df_train = read_file('../datasets/train.txt')\n",
    "df_test = read_file('../datasets/test.txt')\n",
    "\n",
    "len(df_train), len(df_test)"
   ],
   "metadata": {
    "collapsed": false,
    "pycharm": {
     "name": "#%%\n"
    }
   }
  },
  {
   "cell_type": "code",
   "execution_count": 116,
   "outputs": [],
   "source": [
    "X = df_train['text'].values\n",
    "y = df_train['class'].values\n",
    "y_sent = df_train['sent'].values"
   ],
   "metadata": {
    "collapsed": false,
    "pycharm": {
     "name": "#%%\n"
    }
   }
  },
  {
   "cell_type": "markdown",
   "source": [
    "## Features pipelines"
   ],
   "metadata": {
    "collapsed": false,
    "pycharm": {
     "name": "#%% md\n"
    }
   }
  },
  {
   "cell_type": "code",
   "execution_count": 117,
   "outputs": [],
   "source": [
    "class TextLength(BaseEstimator, TransformerMixin):\n",
    "    def fit(self, X, y=None):\n",
    "        return self\n",
    "\n",
    "    def transform(self, X):\n",
    "        return np.array([[float(len(i))] for i in X])\n",
    "\n",
    "\n",
    "class AverageTokensLength(BaseEstimator, TransformerMixin):\n",
    "    def fit(self, X, y=None):\n",
    "        return self\n",
    "\n",
    "    def transform(self, X):\n",
    "        return np.array([[np.mean([len(j) for j in i.split()])] for i in X])\n",
    "\n",
    "\n",
    "class PredictSentiment(BaseEstimator, TransformerMixin):\n",
    "    def __init__(self, X, y_sent):\n",
    "        self.text_to_sentiment = {i: sent for i, sent in zip(X, y_sent)}\n",
    "        self.sent_to_num = {'pos': 1, 'neg': -1, '': 0}\n",
    "\n",
    "    def fit(self, X, y=None):\n",
    "        return self\n",
    "\n",
    "    def transform(self, X):\n",
    "        return np.array([\n",
    "            [self.sent_to_num[self.text_to_sentiment[i]]] for i in X\n",
    "        ])\n",
    "\n",
    "\n",
    "nlp = spacy.load('en_core_web_sm')\n",
    "\n",
    "def spacy_tokenizer(doc):\n",
    "    return [x.orth_ for x in nlp(doc)]\n",
    "\n",
    "def spacy_lemmatizer(doc):\n",
    "    return [x.lemma_ for x in nlp(doc)]"
   ],
   "metadata": {
    "collapsed": false,
    "pycharm": {
     "name": "#%%\n"
    }
   }
  },
  {
   "cell_type": "code",
   "execution_count": 109,
   "outputs": [],
   "source": [
    "_base_model = ('clf', LinearSVC())\n",
    "_base_vec = ('vec', TfidfVectorizer())\n",
    "\n",
    "features = {\n",
    "    'Baseline': Pipeline([_base_vec, _base_model]),\n",
    "    'Text Length': Pipeline([('feat', FeatureUnion([_base_vec, ('len', TextLength())])), _base_model]),\n",
    "    'Avg Tokens Length': Pipeline([('feat', FeatureUnion([_base_vec, ('len', AverageTokensLength())])), _base_model]),\n",
    "    'Sentiment': Pipeline([('feat', FeatureUnion([_base_vec, ('sent', PredictSentiment(X, y_sent))])), _base_model]),\n",
    "    'StopWords Filter': Pipeline([('feat', FeatureUnion([('vec', TfidfVectorizer(stop_words='english'))])), _base_model]),\n",
    "    'NGrams 1-3': Pipeline([('feat', FeatureUnion([('vec', TfidfVectorizer(ngram_range=(1, 3)))])), _base_model]),\n",
    "    'Add CountVectorizer': Pipeline([('feat', FeatureUnion([_base_vec, ('vec2', CountVectorizer())])), _base_model]),\n",
    "    'Spacy Tokenizer': Pipeline([('feat', FeatureUnion([('vec', TfidfVectorizer(tokenizer=spacy_tokenizer))])), _base_model]),\n",
    "    'Spacy Lemmatizer': Pipeline([('feat', FeatureUnion([('vec', TfidfVectorizer(tokenizer=spacy_lemmatizer))])), _base_model]),\n",
    "}"
   ],
   "metadata": {
    "collapsed": false,
    "pycharm": {
     "name": "#%%\n"
    }
   }
  },
  {
   "cell_type": "code",
   "execution_count": 110,
   "outputs": [
    {
     "data": {
      "text/plain": "Pipelines:   0%|          | 0/9 [00:00<?, ?it/s]",
      "application/vnd.jupyter.widget-view+json": {
       "version_major": 2,
       "version_minor": 0,
       "model_id": "36264186b1eb4876ade17b32a1bcf5bc"
      }
     },
     "metadata": {},
     "output_type": "display_data"
    },
    {
     "data": {
      "text/plain": "Folds:   0%|          | 0/5 [00:00<?, ?it/s]",
      "application/vnd.jupyter.widget-view+json": {
       "version_major": 2,
       "version_minor": 0,
       "model_id": "34e78d13d8984c2088866ffe7a6d5aba"
      }
     },
     "metadata": {},
     "output_type": "display_data"
    },
    {
     "data": {
      "text/plain": "Folds:   0%|          | 0/5 [00:00<?, ?it/s]",
      "application/vnd.jupyter.widget-view+json": {
       "version_major": 2,
       "version_minor": 0,
       "model_id": "161976bd89d54993a2b50eed26ce7c9b"
      }
     },
     "metadata": {},
     "output_type": "display_data"
    },
    {
     "data": {
      "text/plain": "Folds:   0%|          | 0/5 [00:00<?, ?it/s]",
      "application/vnd.jupyter.widget-view+json": {
       "version_major": 2,
       "version_minor": 0,
       "model_id": "bffbacd7c78942dda2e8b85bc28b57d6"
      }
     },
     "metadata": {},
     "output_type": "display_data"
    },
    {
     "data": {
      "text/plain": "Folds:   0%|          | 0/5 [00:00<?, ?it/s]",
      "application/vnd.jupyter.widget-view+json": {
       "version_major": 2,
       "version_minor": 0,
       "model_id": "f9ef369519014b769ee1a914a9712325"
      }
     },
     "metadata": {},
     "output_type": "display_data"
    },
    {
     "data": {
      "text/plain": "Folds:   0%|          | 0/5 [00:00<?, ?it/s]",
      "application/vnd.jupyter.widget-view+json": {
       "version_major": 2,
       "version_minor": 0,
       "model_id": "db9566e1fc8144daa2c61cacbb89d500"
      }
     },
     "metadata": {},
     "output_type": "display_data"
    },
    {
     "data": {
      "text/plain": "Folds:   0%|          | 0/5 [00:00<?, ?it/s]",
      "application/vnd.jupyter.widget-view+json": {
       "version_major": 2,
       "version_minor": 0,
       "model_id": "58906e60bd7d4fb4a8903b0c75999e04"
      }
     },
     "metadata": {},
     "output_type": "display_data"
    },
    {
     "data": {
      "text/plain": "Folds:   0%|          | 0/5 [00:00<?, ?it/s]",
      "application/vnd.jupyter.widget-view+json": {
       "version_major": 2,
       "version_minor": 0,
       "model_id": "8b643eee4d364f25a6b8c8efe5b0a199"
      }
     },
     "metadata": {},
     "output_type": "display_data"
    },
    {
     "data": {
      "text/plain": "Folds:   0%|          | 0/5 [00:00<?, ?it/s]",
      "application/vnd.jupyter.widget-view+json": {
       "version_major": 2,
       "version_minor": 0,
       "model_id": "1010d2592ad74da1b82b3a1732bf7ba0"
      }
     },
     "metadata": {},
     "output_type": "display_data"
    },
    {
     "data": {
      "text/plain": "Folds:   0%|          | 0/5 [00:00<?, ?it/s]",
      "application/vnd.jupyter.widget-view+json": {
       "version_major": 2,
       "version_minor": 0,
       "model_id": "6e5f712519d7460da0c0545487dd87d9"
      }
     },
     "metadata": {},
     "output_type": "display_data"
    },
    {
     "data": {
      "text/plain": "                        score       time      diff\nBaseline             0.918704   0.923271       0.0\nText Length          0.306667   6.766604 -0.612037\nAvg Tokens Length     0.92037   1.949838  0.001667\nSentiment            0.919444   0.785033  0.000741\nStopWords Filter      0.91963   0.471536  0.000926\nNGrams 1-3           0.918704   5.424568       0.0\nAdd CountVectorizer  0.871296   2.258375 -0.047407\nSpacy Tokenizer      0.917407  80.435213 -0.001296\nSpacy Lemmatizer        0.915  83.836742 -0.003704",
      "text/html": "<div>\n<style scoped>\n    .dataframe tbody tr th:only-of-type {\n        vertical-align: middle;\n    }\n\n    .dataframe tbody tr th {\n        vertical-align: top;\n    }\n\n    .dataframe thead th {\n        text-align: right;\n    }\n</style>\n<table border=\"1\" class=\"dataframe\">\n  <thead>\n    <tr style=\"text-align: right;\">\n      <th></th>\n      <th>score</th>\n      <th>time</th>\n      <th>diff</th>\n    </tr>\n  </thead>\n  <tbody>\n    <tr>\n      <th>Baseline</th>\n      <td>0.918704</td>\n      <td>0.923271</td>\n      <td>0.0</td>\n    </tr>\n    <tr>\n      <th>Text Length</th>\n      <td>0.306667</td>\n      <td>6.766604</td>\n      <td>-0.612037</td>\n    </tr>\n    <tr>\n      <th>Avg Tokens Length</th>\n      <td>0.92037</td>\n      <td>1.949838</td>\n      <td>0.001667</td>\n    </tr>\n    <tr>\n      <th>Sentiment</th>\n      <td>0.919444</td>\n      <td>0.785033</td>\n      <td>0.000741</td>\n    </tr>\n    <tr>\n      <th>StopWords Filter</th>\n      <td>0.91963</td>\n      <td>0.471536</td>\n      <td>0.000926</td>\n    </tr>\n    <tr>\n      <th>NGrams 1-3</th>\n      <td>0.918704</td>\n      <td>5.424568</td>\n      <td>0.0</td>\n    </tr>\n    <tr>\n      <th>Add CountVectorizer</th>\n      <td>0.871296</td>\n      <td>2.258375</td>\n      <td>-0.047407</td>\n    </tr>\n    <tr>\n      <th>Spacy Tokenizer</th>\n      <td>0.917407</td>\n      <td>80.435213</td>\n      <td>-0.001296</td>\n    </tr>\n    <tr>\n      <th>Spacy Lemmatizer</th>\n      <td>0.915</td>\n      <td>83.836742</td>\n      <td>-0.003704</td>\n    </tr>\n  </tbody>\n</table>\n</div>"
     },
     "execution_count": 110,
     "metadata": {},
     "output_type": "execute_result"
    }
   ],
   "source": [
    "df_scores = pd.DataFrame(columns=['score', 'time'], index=features.keys())\n",
    "scorer = lambda *x: metrics.f1_score(*x, average='micro')\n",
    "\n",
    "for features_name, features_pipeline in tqdm(features.items(), total=len(features), desc='Pipelines'):\n",
    "    try:\n",
    "        kfold_result = cv_kfold(features_pipeline, X, y, scorer=scorer, k=5)\n",
    "        df_scores.loc[features_name, 'score'] = kfold_result['oof_score']\n",
    "        df_scores.loc[features_name, 'time'] = kfold_result['mean_time']\n",
    "\n",
    "        # X_train, X_val, y_train, y_val = train_test_split(X, y)\n",
    "        # validate_results = train_validate_split(features_pipeline, X_train, y_train, X_val, y_val, scorer, verbose=0)\n",
    "        # df_scores.loc[features_name, 'score'] = validate_results['score']\n",
    "        # df_scores.loc[features_name, 'time'] = validate_results['time']\n",
    "    except Exception as e:\n",
    "        df_scores.loc[features_name, 'score'] = None\n",
    "        df_scores.loc[features_name, 'time'] = None\n",
    "\n",
    "df_scores['diff'] = df_scores['score'] - df_scores.loc['Baseline', 'score']\n",
    "\n",
    "df_scores"
   ],
   "metadata": {
    "collapsed": false,
    "pycharm": {
     "name": "#%%\n"
    }
   }
  }
 ],
 "metadata": {
  "kernelspec": {
   "display_name": "Python 3",
   "language": "python",
   "name": "python3"
  },
  "language_info": {
   "codemirror_mode": {
    "name": "ipython",
    "version": 2
   },
   "file_extension": ".py",
   "mimetype": "text/x-python",
   "name": "python",
   "nbconvert_exporter": "python",
   "pygments_lexer": "ipython2",
   "version": "2.7.6"
  }
 },
 "nbformat": 4,
 "nbformat_minor": 0
}