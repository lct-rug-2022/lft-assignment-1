{
 "cells": [
  {
   "cell_type": "markdown",
   "source": [
    "## Imports"
   ],
   "metadata": {
    "id": "3KFd31ts0hHz",
    "pycharm": {
     "name": "#%% md\n"
    }
   }
  },
  {
   "cell_type": "code",
   "execution_count": null,
   "metadata": {
    "id": "t8OPfoqMD9Sm",
    "pycharm": {
     "name": "#%%\n"
    }
   },
   "outputs": [],
   "source": [
    "import seaborn as sns\n",
    "import matplotlib.pyplot as plt\n",
    "import numpy as np\n",
    "import pandas as pd"
   ]
  },
  {
   "cell_type": "code",
   "execution_count": null,
   "metadata": {
    "id": "vEHVedjludx2",
    "pycharm": {
     "name": "#%%\n"
    }
   },
   "outputs": [],
   "source": [
    "import warnings\n",
    "warnings.filterwarnings(\"ignore\")"
   ]
  },
  {
   "cell_type": "markdown",
   "source": [
    "## Data loading"
   ],
   "metadata": {
    "id": "bpOXt9s70khI",
    "pycharm": {
     "name": "#%% md\n"
    }
   }
  },
  {
   "cell_type": "code",
   "execution_count": null,
   "metadata": {
    "id": "V5ndTt-LFins",
    "pycharm": {
     "name": "#%%\n"
    }
   },
   "outputs": [],
   "source": [
    "def read_file(filename: str) -> pd.DataFrame:\n",
    "    return pd.DataFrame([\n",
    "        (l.split()[0], l.split()[1], ' '.join(l.split()[3:])) \n",
    "        for l in open(filename)\n",
    "        ], columns=['class', 'sent', 'text']\n",
    "    )"
   ]
  },
  {
   "cell_type": "code",
   "execution_count": null,
   "metadata": {
    "id": "5sb6EulfE37X",
    "pycharm": {
     "name": "#%%\n"
    }
   },
   "outputs": [],
   "source": [
    "df_train = read_file('train.txt')\n",
    "df_test = read_file('test.txt')\n",
    "\n",
    "len(df_train), len(df_test)"
   ]
  },
  {
   "cell_type": "markdown",
   "source": [
    "## Charts"
   ],
   "metadata": {
    "id": "B4mlviYM0mnA",
    "pycharm": {
     "name": "#%% md\n"
    }
   }
  },
  {
   "cell_type": "code",
   "execution_count": null,
   "metadata": {
    "id": "km4h_j6d4O94",
    "pycharm": {
     "name": "#%%\n"
    }
   },
   "outputs": [],
   "source": [
    "# sns_palette = sns.color_palette(\"tab10\")\n",
    "sns_palette = sns.color_palette(sns.hls_palette(6))\n",
    "palette = {color: rgb for color, rgb in zip(df_train['class'].unique(), sns_palette)}\n",
    "sns.palplot(palette.values())\n",
    "palette"
   ]
  },
  {
   "cell_type": "code",
   "execution_count": null,
   "metadata": {
    "id": "vOMRGinyrJrg",
    "pycharm": {
     "name": "#%%\n"
    }
   },
   "outputs": [],
   "source": [
    "df_train['sent'].value_counts(), df_test['sent'].value_counts()"
   ]
  },
  {
   "cell_type": "code",
   "execution_count": null,
   "metadata": {
    "id": "yNCcabPoEE6f",
    "pycharm": {
     "name": "#%%\n"
    }
   },
   "outputs": [],
   "source": [
    "fig, ax = plt.subplots(1, 2, figsize=(11, 3))\n",
    "\n",
    "ax[0].title.set_text('Train Set')\n",
    "sns.countplot(data=df_train, x='class', ax=ax[0], palette=palette)\n",
    "\n",
    "ax[1].title.set_text('Test Set')\n",
    "sns.countplot(data=df_test, x='class', ax=ax[1], palette=palette)"
   ]
  },
  {
   "cell_type": "code",
   "execution_count": null,
   "metadata": {
    "id": "fcI6eH1exae_",
    "pycharm": {
     "name": "#%%\n"
    }
   },
   "outputs": [],
   "source": [
    "_df = df_train.append(df_test).copy().reset_index()\n",
    "\n",
    "fig, ax = plt.subplots(1, 2, figsize=(11, 4))\n",
    "\n",
    "ax[0].title.set_text('Text Length')\n",
    "_df['text_len'] = _df['text'].apply(len)\n",
    "ax[0].set_xlim(0, 7000)\n",
    "ax[0].set_xlim(0, 5000)\n",
    "sns.histplot(data=_df, x='text_len', y='class', hue='class', legend=False, ax=ax[0], palette=palette)\n",
    "ax[0].set_xlabel('length')\n",
    "ax[0].set_ylabel(None)\n",
    "\n",
    "# ax[1].title.set_text('Tokens Numer')\n",
    "# _df['text_tokens_number'] = _df['text'].apply(str.split).apply(len)\n",
    "# ax[1].set_xlim(0, 1000)\n",
    "# sns.histplot(data=_df, x='text_tokens_number', y='class', hue='class', legend=False, ax=ax[1], palette=palette)\n",
    "# ax[1].set_xlabel('num')\n",
    "# ax[1].set_ylabel(None)\n",
    "\n",
    "ax[1].title.set_text('Tokens Length')\n",
    "_df['text_tokens_length'] = _df['text'].apply(str.split).apply(lambda x: np.mean([len(i) for i in x]))\n",
    "ax[1].set_xlim(2, 6.5)\n",
    "sns.histplot(data=_df, x='text_tokens_length', y='class', hue='class', legend=False, ax=ax[1], palette=palette)\n",
    "ax[1].set_xlabel('length')\n",
    "ax[1].set_ylabel(None)"
   ]
  }
 ],
 "metadata": {
  "colab": {
   "collapsed_sections": [],
   "provenance": []
  },
  "kernelspec": {
   "display_name": "Python 3",
   "name": "python3"
  },
  "language_info": {
   "name": "python"
  }
 },
 "nbformat": 4,
 "nbformat_minor": 0
}