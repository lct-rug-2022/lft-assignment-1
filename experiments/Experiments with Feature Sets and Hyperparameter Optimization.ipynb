{
 "cells": [
  {
   "cell_type": "code",
   "execution_count": 72,
   "id": "f3ab5dbd",
   "metadata": {},
   "outputs": [],
   "source": [
    "from sklearn.feature_extraction.text import CountVectorizer, TfidfVectorizer, HashingVectorizer\n",
    "from sklearn.pipeline import Pipeline,FeatureUnion\n",
    "from sklearn.metrics import f1_score\n",
    "from utils import read_corpus, cv_kfold, train_validate_split\n",
    "from sklearn.svm import LinearSVC\n",
    "import matplotlib.pyplot as plt\n",
    "from tqdm import tqdm\n",
    "import warnings\n",
    "warnings.filterwarnings(\"ignore\")"
   ]
  },
  {
   "cell_type": "code",
   "execution_count": 7,
   "id": "8c7983ca",
   "metadata": {},
   "outputs": [],
   "source": [
    "X_train, Y_train = read_corpus('datasets/train.txt', False)\n",
    "X_test, Y_test = read_corpus('datasets/test.txt', False)"
   ]
  },
  {
   "cell_type": "markdown",
   "id": "1d9ff868",
   "metadata": {},
   "source": [
    "### Train vs Test Labels Distribution"
   ]
  },
  {
   "cell_type": "code",
   "execution_count": 8,
   "id": "1ebc6668",
   "metadata": {},
   "outputs": [
    {
     "data": {
      "image/png": "[encoded data removed]",
      "text/plain": [
       "<Figure size 640x480 with 1 Axes>"
      ]
     },
     "metadata": {},
     "output_type": "display_data"
    }
   ],
   "source": [
    "plt.hist([Y_train,Y_test], alpha=0.5, density=True, label=['train','test'])\n",
    "plt.legend(loc='upper right')\n",
    "plt.show()"
   ]
  },
  {
   "cell_type": "code",
   "execution_count": 9,
   "id": "7eb85e35",
   "metadata": {},
   "outputs": [],
   "source": [
    "def identity(inp):\n",
    "    '''Dummy function that just returns the input'''\n",
    "    return inp\n",
    "count = CountVectorizer(preprocessor=identity)\n",
    "tf_idf = TfidfVectorizer(preprocessor=identity)\n",
    "hashing=HashingVectorizer(preprocessor=identity)"
   ]
  },
  {
   "cell_type": "code",
   "execution_count": 10,
   "id": "e48679eb",
   "metadata": {},
   "outputs": [
    {
     "data": {
      "application/vnd.jupyter.widget-view+json": {
       "model_id": "478ebcc63860465a990776bb607b3a8c",
       "version_major": 2,
       "version_minor": 0
      },
      "text/plain": [
       "Folds:   0%|          | 0/4 [00:00<?, ?it/s]"
      ]
     },
     "metadata": {},
     "output_type": "display_data"
    },
    {
     "name": "stdout",
     "output_type": "stream",
     "text": [
      "f1 score OOF 0.9207407407407407\n"
     ]
    }
   ],
   "source": [
    "classifier = Pipeline([\n",
    "    ('tf', tf_idf),\n",
    "    ('cls', LinearSVC())\n",
    "])\n",
    "kfold_result = cv_kfold(\n",
    "    classifier,\n",
    "    X_train,\n",
    "    Y_train,\n",
    "    lambda *x: f1_score(*x, average='micro'),\n",
    "    k=4,\n",
    "    verbose=1\n",
    ")\n",
    "print('f1 score OOF', kfold_result['oof_score'])"
   ]
  },
  {
   "cell_type": "markdown",
   "id": "32728a7c",
   "metadata": {},
   "source": [
    "### Combining Vectorizors"
   ]
  },
  {
   "cell_type": "code",
   "execution_count": 11,
   "id": "b3ce5535",
   "metadata": {},
   "outputs": [
    {
     "data": {
      "application/vnd.jupyter.widget-view+json": {
       "model_id": "378a7a2f2f2e47ffae6bd06caba03d16",
       "version_major": 2,
       "version_minor": 0
      },
      "text/plain": [
       "Folds:   0%|          | 0/4 [00:00<?, ?it/s]"
      ]
     },
     "metadata": {},
     "output_type": "display_data"
    },
    {
     "name": "stdout",
     "output_type": "stream",
     "text": [
      "f1 score OOF 0.8709259259259259\n"
     ]
    }
   ],
   "source": [
    "#TF IDF + CountVec\n",
    "union = FeatureUnion([(\"count\", count), (\"tf\", tf_idf)])\n",
    "classifier = Pipeline([\n",
    "    ('union', union),\n",
    "    ('cls', LinearSVC())\n",
    "])\n",
    "kfold_result = cv_kfold(\n",
    "    classifier,\n",
    "    X_train,\n",
    "    Y_train,\n",
    "    lambda *x: f1_score(*x, average='micro'),\n",
    "    k=4,\n",
    "    verbose=1\n",
    ")\n",
    "print('f1 score OOF', kfold_result['oof_score'])"
   ]
  },
  {
   "cell_type": "code",
   "execution_count": 12,
   "id": "50a74bf8",
   "metadata": {},
   "outputs": [
    {
     "data": {
      "application/vnd.jupyter.widget-view+json": {
       "model_id": "c7d31c448ac445eeb298a9b9bb8e3250",
       "version_major": 2,
       "version_minor": 0
      },
      "text/plain": [
       "Folds:   0%|          | 0/4 [00:00<?, ?it/s]"
      ]
     },
     "metadata": {},
     "output_type": "display_data"
    },
    {
     "name": "stdout",
     "output_type": "stream",
     "text": [
      "f1 score OOF 0.9153703703703704\n"
     ]
    }
   ],
   "source": [
    "#TF IDF + HashingVec\n",
    "union = FeatureUnion([(\"tf\", tf_idf), (\"hashing\", hashing)])\n",
    "classifier = Pipeline([\n",
    "    ('union', union),\n",
    "    ('cls', LinearSVC())\n",
    "])\n",
    "kfold_result = cv_kfold(\n",
    "    classifier,\n",
    "    X_train,\n",
    "    Y_train,\n",
    "    lambda *x: f1_score(*x, average='micro'),\n",
    "    k=4,\n",
    "    verbose=1\n",
    ")\n",
    "print('f1 score OOF', kfold_result['oof_score'])"
   ]
  },
  {
   "cell_type": "markdown",
   "id": "dd587b76",
   "metadata": {},
   "source": [
    "### TF IDF Parameters Experiment"
   ]
  },
  {
   "cell_type": "code",
   "execution_count": 13,
   "id": "742cbd74",
   "metadata": {},
   "outputs": [],
   "source": [
    "tf_idf = TfidfVectorizer(preprocessor=identity,stop_words=\"english\")"
   ]
  },
  {
   "cell_type": "code",
   "execution_count": 14,
   "id": "0e59eb47",
   "metadata": {},
   "outputs": [
    {
     "data": {
      "application/vnd.jupyter.widget-view+json": {
       "model_id": "168b8eb28ed347efa0831153f32d504e",
       "version_major": 2,
       "version_minor": 0
      },
      "text/plain": [
       "Folds:   0%|          | 0/4 [00:00<?, ?it/s]"
      ]
     },
     "metadata": {},
     "output_type": "display_data"
    },
    {
     "name": "stdout",
     "output_type": "stream",
     "text": [
      "f1 score OOF 0.9205555555555556\n"
     ]
    }
   ],
   "source": [
    "classifier = Pipeline([\n",
    "    ('tf', tf_idf),\n",
    "    ('cls', LinearSVC())\n",
    "])\n",
    "kfold_result = cv_kfold(\n",
    "    classifier,\n",
    "    X_train,\n",
    "    Y_train,\n",
    "    lambda *x: f1_score(*x, average='micro'),\n",
    "    k=4,\n",
    "    verbose=1\n",
    ")\n",
    "print('f1 score OOF', kfold_result['oof_score'])"
   ]
  },
  {
   "cell_type": "code",
   "execution_count": 15,
   "id": "18b634d7",
   "metadata": {},
   "outputs": [],
   "source": [
    "tf_idf = TfidfVectorizer(preprocessor=identity,stop_words=\"english\",binary=True)"
   ]
  },
  {
   "cell_type": "code",
   "execution_count": 16,
   "id": "70683740",
   "metadata": {},
   "outputs": [
    {
     "data": {
      "application/vnd.jupyter.widget-view+json": {
       "model_id": "d6375cea7c3d479b8e745ac2024c41aa",
       "version_major": 2,
       "version_minor": 0
      },
      "text/plain": [
       "Folds:   0%|          | 0/4 [00:00<?, ?it/s]"
      ]
     },
     "metadata": {},
     "output_type": "display_data"
    },
    {
     "name": "stdout",
     "output_type": "stream",
     "text": [
      "f1 score OOF 0.9188888888888889\n"
     ]
    }
   ],
   "source": [
    "classifier = Pipeline([\n",
    "    ('tf', tf_idf),\n",
    "    ('cls', LinearSVC())\n",
    "])\n",
    "kfold_result = cv_kfold(\n",
    "    classifier,\n",
    "    X_train,\n",
    "    Y_train,\n",
    "    lambda *x: f1_score(*x, average='micro'),\n",
    "    k=4,\n",
    "    verbose=1\n",
    ")\n",
    "print('f1 score OOF', kfold_result['oof_score'])"
   ]
  },
  {
   "cell_type": "code",
   "execution_count": 21,
   "id": "2e165b68",
   "metadata": {},
   "outputs": [],
   "source": [
    "tf_idf = TfidfVectorizer(preprocessor=identity,stop_words=\"english\",sublinear_tf=True)"
   ]
  },
  {
   "cell_type": "code",
   "execution_count": 22,
   "id": "b22f59ee",
   "metadata": {},
   "outputs": [
    {
     "data": {
      "application/vnd.jupyter.widget-view+json": {
       "model_id": "a0e0f47e66e24e4c9e87420d63a2503a",
       "version_major": 2,
       "version_minor": 0
      },
      "text/plain": [
       "Folds:   0%|          | 0/4 [00:00<?, ?it/s]"
      ]
     },
     "metadata": {},
     "output_type": "display_data"
    },
    {
     "name": "stdout",
     "output_type": "stream",
     "text": [
      "f1 score OOF 0.9235185185185185\n"
     ]
    }
   ],
   "source": [
    "classifier = Pipeline([\n",
    "    ('tf', tf_idf),\n",
    "    ('cls', LinearSVC())\n",
    "])\n",
    "kfold_result = cv_kfold(\n",
    "    classifier,\n",
    "    X_train,\n",
    "    Y_train,\n",
    "    lambda *x: f1_score(*x, average='micro'),\n",
    "    k=4,\n",
    "    verbose=1\n",
    ")\n",
    "print('f1 score OOF', kfold_result['oof_score'])"
   ]
  },
  {
   "cell_type": "markdown",
   "id": "e23d7e76",
   "metadata": {},
   "source": [
    "### n-grams"
   ]
  },
  {
   "cell_type": "code",
   "execution_count": 35,
   "id": "14f51922",
   "metadata": {},
   "outputs": [],
   "source": [
    "tf_idf = TfidfVectorizer(preprocessor=identity,stop_words=\"english\",sublinear_tf=True,ngram_range=(1,2))"
   ]
  },
  {
   "cell_type": "code",
   "execution_count": 36,
   "id": "e369edb1",
   "metadata": {},
   "outputs": [
    {
     "data": {
      "application/vnd.jupyter.widget-view+json": {
       "model_id": "c35481aff9f248798402fd2baeb5b034",
       "version_major": 2,
       "version_minor": 0
      },
      "text/plain": [
       "Folds:   0%|          | 0/4 [00:00<?, ?it/s]"
      ]
     },
     "metadata": {},
     "output_type": "display_data"
    },
    {
     "name": "stdout",
     "output_type": "stream",
     "text": [
      "f1 score OOF 0.9268518518518518\n"
     ]
    }
   ],
   "source": [
    "classifier = Pipeline([\n",
    "    ('tf', tf_idf),\n",
    "    ('cls', LinearSVC())\n",
    "])\n",
    "kfold_result = cv_kfold(\n",
    "    classifier,\n",
    "    X_train,\n",
    "    Y_train,\n",
    "    lambda *x: f1_score(*x, average='micro'),\n",
    "    k=4,\n",
    "    verbose=1\n",
    ")\n",
    "print('f1 score OOF', kfold_result['oof_score'])"
   ]
  },
  {
   "cell_type": "code",
   "execution_count": 37,
   "id": "93050dce",
   "metadata": {},
   "outputs": [],
   "source": [
    "tf_idf = TfidfVectorizer(preprocessor=identity,stop_words=\"english\",sublinear_tf=True,ngram_range=(1,3))"
   ]
  },
  {
   "cell_type": "code",
   "execution_count": 38,
   "id": "6350fefd",
   "metadata": {},
   "outputs": [
    {
     "data": {
      "application/vnd.jupyter.widget-view+json": {
       "model_id": "92311d1f0a1d4b0c8813ab8baaaa4ded",
       "version_major": 2,
       "version_minor": 0
      },
      "text/plain": [
       "Folds:   0%|          | 0/4 [00:00<?, ?it/s]"
      ]
     },
     "metadata": {},
     "output_type": "display_data"
    },
    {
     "name": "stdout",
     "output_type": "stream",
     "text": [
      "f1 score OOF 0.9253703703703704\n"
     ]
    }
   ],
   "source": [
    "classifier = Pipeline([\n",
    "    ('tf', tf_idf),\n",
    "    ('cls', LinearSVC())\n",
    "])\n",
    "kfold_result = cv_kfold(\n",
    "    classifier,\n",
    "    X_train,\n",
    "    Y_train,\n",
    "    lambda *x: f1_score(*x, average='micro'),\n",
    "    k=4,\n",
    "    verbose=1\n",
    ")\n",
    "print('f1 score OOF', kfold_result['oof_score'])"
   ]
  },
  {
   "cell_type": "markdown",
   "id": "5201a00c",
   "metadata": {},
   "source": [
    "### Filtering features based on relevance or frequency"
   ]
  },
  {
   "cell_type": "code",
   "execution_count": 45,
   "id": "00dab429",
   "metadata": {},
   "outputs": [],
   "source": [
    "tf_idf = TfidfVectorizer(preprocessor=identity,stop_words=\"english\",sublinear_tf=True,ngram_range=(1,2),min_df=0.01)"
   ]
  },
  {
   "cell_type": "code",
   "execution_count": 46,
   "id": "0c5f2e30",
   "metadata": {},
   "outputs": [
    {
     "data": {
      "application/vnd.jupyter.widget-view+json": {
       "model_id": "06d3b66163b242608fab184c6c0d04ac",
       "version_major": 2,
       "version_minor": 0
      },
      "text/plain": [
       "Folds:   0%|          | 0/4 [00:00<?, ?it/s]"
      ]
     },
     "metadata": {},
     "output_type": "display_data"
    },
    {
     "name": "stdout",
     "output_type": "stream",
     "text": [
      "f1 score OOF 0.8694444444444445\n"
     ]
    }
   ],
   "source": [
    "classifier = Pipeline([\n",
    "    ('tf', tf_idf),\n",
    "    ('cls', LinearSVC())\n",
    "])\n",
    "kfold_result = cv_kfold(\n",
    "    classifier,\n",
    "    X_train,\n",
    "    Y_train,\n",
    "    lambda *x: f1_score(*x, average='micro'),\n",
    "    k=4,\n",
    "    verbose=1\n",
    ")\n",
    "print('f1 score OOF', kfold_result['oof_score'])"
   ]
  },
  {
   "cell_type": "code",
   "execution_count": 47,
   "id": "9637b163",
   "metadata": {},
   "outputs": [],
   "source": [
    "tf_idf = TfidfVectorizer(preprocessor=identity,stop_words=\"english\",sublinear_tf=True,ngram_range=(1,2),max_df=0.99)"
   ]
  },
  {
   "cell_type": "code",
   "execution_count": 48,
   "id": "a3a1e1ff",
   "metadata": {},
   "outputs": [
    {
     "data": {
      "application/vnd.jupyter.widget-view+json": {
       "model_id": "7d40bbd32ddd4ed199e98a8ec518449b",
       "version_major": 2,
       "version_minor": 0
      },
      "text/plain": [
       "Folds:   0%|          | 0/4 [00:00<?, ?it/s]"
      ]
     },
     "metadata": {},
     "output_type": "display_data"
    },
    {
     "name": "stdout",
     "output_type": "stream",
     "text": [
      "f1 score OOF 0.9268518518518518\n"
     ]
    }
   ],
   "source": [
    "classifier = Pipeline([\n",
    "    ('tf', tf_idf),\n",
    "    ('cls', LinearSVC())\n",
    "])\n",
    "kfold_result = cv_kfold(\n",
    "    classifier,\n",
    "    X_train,\n",
    "    Y_train,\n",
    "    lambda *x: f1_score(*x, average='micro'),\n",
    "    k=4,\n",
    "    verbose=1\n",
    ")\n",
    "print('f1 score OOF', kfold_result['oof_score'])"
   ]
  },
  {
   "cell_type": "code",
   "execution_count": 51,
   "id": "ed882160",
   "metadata": {},
   "outputs": [],
   "source": [
    "tf_idf = TfidfVectorizer(preprocessor=identity,stop_words=\"english\",sublinear_tf=True,ngram_range=(1,2),max_features=1000)\n"
   ]
  },
  {
   "cell_type": "code",
   "execution_count": 52,
   "id": "39c31238",
   "metadata": {},
   "outputs": [
    {
     "data": {
      "application/vnd.jupyter.widget-view+json": {
       "model_id": "8e8823adc1f644f68c4d45e0791c299b",
       "version_major": 2,
       "version_minor": 0
      },
      "text/plain": [
       "Folds:   0%|          | 0/4 [00:00<?, ?it/s]"
      ]
     },
     "metadata": {},
     "output_type": "display_data"
    },
    {
     "name": "stdout",
     "output_type": "stream",
     "text": [
      "f1 score OOF 0.8837037037037037\n"
     ]
    }
   ],
   "source": [
    "classifier = Pipeline([\n",
    "    ('tf', tf_idf),\n",
    "    ('cls', LinearSVC())\n",
    "])\n",
    "kfold_result = cv_kfold(\n",
    "    classifier,\n",
    "    X_train,\n",
    "    Y_train,\n",
    "    lambda *x: f1_score(*x, average='micro'),\n",
    "    k=4,\n",
    "    verbose=1\n",
    ")\n",
    "print('f1 score OOF', kfold_result['oof_score'])"
   ]
  },
  {
   "cell_type": "markdown",
   "id": "2262b98f",
   "metadata": {},
   "source": [
    "### Hyperparameter (c) optimization "
   ]
  },
  {
   "cell_type": "code",
   "execution_count": 67,
   "id": "7669fa36",
   "metadata": {
    "scrolled": true
   },
   "outputs": [
    {
     "name": "stderr",
     "output_type": "stream",
     "text": [
      "100%|███████████████████████████████████████████| 30/30 [11:59<00:00, 23.99s/it]\n"
     ]
    }
   ],
   "source": [
    "cs=[x * 0.1 for x in range(1, 31)]\n",
    "f1=[]\n",
    "for c in tqdm(cs):\n",
    "    tf_idf = TfidfVectorizer(preprocessor=identity,stop_words=\"english\",sublinear_tf=True,ngram_range=(1,2))\n",
    "    classifier = Pipeline([\n",
    "        ('tf', tf_idf),\n",
    "        ('cls', LinearSVC(C=c))\n",
    "    ])\n",
    "    a = lambda *x: f1_score(*x, average='micro')\n",
    "    kfold_result = cv_kfold(\n",
    "        classifier,\n",
    "        X_train,\n",
    "        Y_train,\n",
    "        a,\n",
    "        k=4,\n",
    "        verbose=0,\n",
    "    )\n",
    "    f1.append(kfold_result['oof_score'])"
   ]
  },
  {
   "cell_type": "code",
   "execution_count": 69,
   "id": "e8de3a7a",
   "metadata": {},
   "outputs": [
    {
     "data": {
      "text/plain": [
       "Text(0, 0.5, 'F1 Score')"
      ]
     },
     "execution_count": 69,
     "metadata": {},
     "output_type": "execute_result"
    },
    {
     "data": {
      "image/png": "[encoded data removed]",
      "text/plain": [
       "<Figure size 640x480 with 1 Axes>"
      ]
     },
     "metadata": {},
     "output_type": "display_data"
    }
   ],
   "source": [
    "plt.scatter(cs,f1,s=10)\n",
    "plt.xlabel('C value')\n",
    "plt.ylabel('F1 Score')"
   ]
  },
  {
   "cell_type": "code",
   "execution_count": 70,
   "id": "1fb8153e",
   "metadata": {},
   "outputs": [
    {
     "name": "stdout",
     "output_type": "stream",
     "text": [
      "Optimum C value: 1.2000000000000002\n",
      "Best F1 validation Score: 0.9277777777777778\n"
     ]
    }
   ],
   "source": [
    "print (\"Optimum C value:\", cs[f1.index(max(f1))])\n",
    "print (\"Best F1 validation Score:\", max(f1))"
   ]
  },
  {
   "cell_type": "markdown",
   "id": "93b878d2",
   "metadata": {},
   "source": [
    "### Test Set Score"
   ]
  },
  {
   "cell_type": "code",
   "execution_count": 73,
   "id": "7cf3aeb1",
   "metadata": {},
   "outputs": [],
   "source": [
    "tf_idf = TfidfVectorizer(preprocessor=identity,stop_words=\"english\",sublinear_tf=True,ngram_range=(1,2))\n",
    "classifier = Pipeline([\n",
    "    ('tf', tf_idf),\n",
    "    ('cls', LinearSVC(C=1.2))\n",
    "])\n",
    "fn = lambda *x: f1_score(*x, average='micro')\n",
    "\n",
    "test_results = train_validate_split(\n",
    "    classifier,\n",
    "    X_train,\n",
    "    Y_train,\n",
    "    X_test,\n",
    "    Y_test,\n",
    "    fn,\n",
    "    verbose=1\n",
    ")"
   ]
  },
  {
   "cell_type": "code",
   "execution_count": 77,
   "id": "2853e275",
   "metadata": {},
   "outputs": [
    {
     "name": "stdout",
     "output_type": "stream",
     "text": [
      "Test Score: 0.9316666666666665\n"
     ]
    }
   ],
   "source": [
    "print(\"Test Score:\",test_results['score'])"
   ]
  }
 ],
 "metadata": {
  "kernelspec": {
   "display_name": "Python 3 (ipykernel)",
   "language": "python",
   "name": "python3"
  },
  "language_info": {
   "codemirror_mode": {
    "name": "ipython",
    "version": 3
   },
   "file_extension": ".py",
   "mimetype": "text/x-python",
   "name": "python",
   "nbconvert_exporter": "python",
   "pygments_lexer": "ipython3",
   "version": "3.10.6"
  }
 },
 "nbformat": 4,
 "nbformat_minor": 5
}
