{
 "cells": [
  {
   "cell_type": "markdown",
   "source": [
    "## Imports"
   ],
   "metadata": {
    "collapsed": false,
    "pycharm": {
     "name": "#%% md\n"
    }
   }
  },
  {
   "cell_type": "code",
   "execution_count": null,
   "outputs": [],
   "source": [
    "import sys\n",
    "import os\n",
    "\n",
    "from sklearn import metrics\n",
    "import pandas as pd\n",
    "from skopt import BayesSearchCV\n",
    "from sklearn.feature_extraction.text import TfidfVectorizer\n",
    "from sklearn.pipeline import Pipeline\n",
    "from sklearn.svm import LinearSVC\n",
    "from hyperopt import tpe\n",
    "from hpsklearn import HyperoptEstimator, linear_svc"
   ],
   "metadata": {
    "collapsed": false,
    "pycharm": {
     "name": "#%%\n"
    }
   }
  },
  {
   "cell_type": "code",
   "execution_count": null,
   "outputs": [],
   "source": [
    "import warnings\n",
    "warnings.filterwarnings(\"ignore\")\n",
    "if not sys.warnoptions:\n",
    "    warnings.simplefilter(\"ignore\")\n",
    "    os.environ[\"PYTHONWARNINGS\"] = \"ignore\" # Also affect subprocesses"
   ],
   "metadata": {
    "collapsed": false,
    "pycharm": {
     "name": "#%%\n"
    }
   }
  },
  {
   "cell_type": "markdown",
   "source": [
    "## Data loading"
   ],
   "metadata": {
    "collapsed": false,
    "pycharm": {
     "name": "#%% md\n"
    }
   }
  },
  {
   "cell_type": "code",
   "execution_count": null,
   "outputs": [],
   "source": [
    "def read_file(filename: str) -> pd.DataFrame:\n",
    "    return pd.DataFrame([\n",
    "        (l.split()[0], l.split()[1], ' '.join(l.split()[3:]))\n",
    "        for l in open(filename)\n",
    "        ], columns=['class', 'sent', 'text']\n",
    "    )"
   ],
   "metadata": {
    "collapsed": false,
    "pycharm": {
     "name": "#%%\n"
    }
   }
  },
  {
   "cell_type": "code",
   "execution_count": null,
   "outputs": [],
   "source": [
    "df_train = read_file('../datasets/train.txt')\n",
    "df_test = read_file('../datasets/test.txt')\n",
    "\n",
    "len(df_train), len(df_test)"
   ],
   "metadata": {
    "collapsed": false,
    "pycharm": {
     "name": "#%%\n"
    }
   }
  },
  {
   "cell_type": "code",
   "execution_count": null,
   "outputs": [],
   "source": [
    "X = df_train['text'].values\n",
    "y = df_train['class'].values"
   ],
   "metadata": {
    "collapsed": false,
    "pycharm": {
     "name": "#%%\n"
    }
   }
  },
  {
   "cell_type": "code",
   "execution_count": null,
   "outputs": [],
   "source": [
    "X_test = df_test['text'].values\n",
    "y_test = df_test['class'].values"
   ],
   "metadata": {
    "collapsed": false,
    "pycharm": {
     "name": "#%%\n"
    }
   }
  },
  {
   "cell_type": "markdown",
   "source": [
    "## Hyperopt"
   ],
   "metadata": {
    "collapsed": false,
    "pycharm": {
     "name": "#%% md\n"
    }
   }
  },
  {
   "cell_type": "code",
   "execution_count": null,
   "outputs": [],
   "source": [
    "estim = HyperoptEstimator(\n",
    "    classifier=linear_svc('model'),\n",
    "    preprocessing=[TfidfVectorizer(ngram_range=(1,2), sublinear_tf=True, stop_words='english')],\n",
    "    algo=tpe.suggest,\n",
    "    trial_timeout=300,\n",
    "    n_jobs=4,\n",
    ")\n",
    "\n",
    "estim.fit(X, y)\n",
    "\n",
    "estim.best_model()"
   ],
   "metadata": {
    "collapsed": false,
    "pycharm": {
     "name": "#%%\n"
    }
   }
  },
  {
   "cell_type": "code",
   "execution_count": null,
   "outputs": [],
   "source": [
    "print('test score: ', metrics.f1_score(y_test, estim.predict(X_test), average='micro'))"
   ],
   "metadata": {
    "collapsed": false,
    "pycharm": {
     "name": "#%%\n"
    }
   }
  },
  {
   "cell_type": "markdown",
   "source": [
    "## Bayesian Optimization"
   ],
   "metadata": {
    "collapsed": false,
    "pycharm": {
     "name": "#%% md\n"
    }
   }
  },
  {
   "cell_type": "code",
   "execution_count": null,
   "outputs": [],
   "source": [
    "pipeline = Pipeline([\n",
    "    ('vec', TfidfVectorizer(ngram_range=(1,2), sublinear_tf=True, stop_words='english')),\n",
    "    ('model', LinearSVC()),\n",
    "])\n",
    "\n",
    "\n",
    "opt = BayesSearchCV(\n",
    "    pipeline,\n",
    "    {\n",
    "        'model__C': (1e-6, 1e+6, 'log-uniform'),\n",
    "        'model__tol': (1e-6, 1e-2, 'log-uniform'),\n",
    "        'model__loss': ['hinge', 'squared_hinge'],\n",
    "        'model__multi_class': ['ovr', 'crammer_singer'],\n",
    "    },\n",
    "    n_iter=32,\n",
    "    cv=5,\n",
    "    n_jobs=4,\n",
    "    scoring='f1_micro',\n",
    ")\n",
    "\n",
    "opt.fit(X, y)\n",
    "\n",
    "print('val score:', opt.best_score_)\n",
    "str(opt.best_params_)"
   ],
   "metadata": {
    "collapsed": false,
    "pycharm": {
     "name": "#%%\n"
    }
   }
  },
  {
   "cell_type": "code",
   "execution_count": null,
   "outputs": [],
   "source": [
    "print('test score:', opt.score(X_test, y_test))"
   ],
   "metadata": {
    "collapsed": false,
    "pycharm": {
     "name": "#%%\n"
    }
   }
  }
 ],
 "metadata": {
  "kernelspec": {
   "display_name": "Python 3",
   "language": "python",
   "name": "python3"
  },
  "language_info": {
   "codemirror_mode": {
    "name": "ipython",
    "version": 2
   },
   "file_extension": ".py",
   "mimetype": "text/x-python",
   "name": "python",
   "nbconvert_exporter": "python",
   "pygments_lexer": "ipython2",
   "version": "2.7.6"
  }
 },
 "nbformat": 4,
 "nbformat_minor": 0
}